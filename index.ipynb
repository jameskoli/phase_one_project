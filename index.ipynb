{
 "cells": [
  {
   "cell_type": "code",
   "execution_count": null,
   "metadata": {},
   "outputs": [],
   "source": [
    "import pandas as pd\n",
    "import matplotlib as plt\n",
    "import sqlite3\n",
    "import os\n",
    "import seaborn as sns"
   ]
  },
  {
   "cell_type": "code",
   "execution_count": null,
   "metadata": {},
   "outputs": [],
   "source": [
    "#retriing table names from data frame\n",
    "im_path = r\"C:\\Users\\HP\\Desktop\\moringa\\PHASE1_PROJECT\\im.db\\im.db\"\n",
    "\n",
    "conn = sqlite3.connect(im_path)\n",
    "cursor = conn.cursor()\n",
    "\n",
    "table_name_query = \"\"\" SELECT name\n",
    "                       AS 'Table Names' \n",
    "                       FROM sqlite_master \n",
    "                       WHERE type='table';\n",
    "                       \"\"\"\n",
    "\n",
    "table_names = pd.read_sql(table_name_query, conn)\n",
    "\n",
    "print(table_names)"
   ]
  },
  {
   "cell_type": "code",
   "execution_count": null,
   "metadata": {},
   "outputs": [],
   "source": [
    "q = \"\"\"SELECT *\n",
    "       FROM directors;\n",
    "    \"\"\"\n",
    "df = pd.read_sql(q, conn)\n",
    "\n",
    "print(df.head())"
   ]
  },
  {
   "cell_type": "code",
   "execution_count": null,
   "metadata": {},
   "outputs": [],
   "source": [
    "# marging the movie mudgets in csv file and  cleaning them up\n",
    "budget_one = pd.read_csv(\"C:\\\\Users\\\\HP\\\\Desktop\\\\moringa\\\\PHASE1_PROJECT\\\\tn.movie_budgets.csv\\\\tn.movie_budgets.csv\")\n",
    "budget_two = pd.read_csv(\"C:\\\\Users\\\\HP\\\\Desktop\\\\moringa\\\\PHASE1_PROJECT\\\\bom.movie_gross.csv\\\\bom.movie_gross.csv\")\n"
   ]
  },
  {
   "cell_type": "code",
   "execution_count": null,
   "metadata": {},
   "outputs": [],
   "source": [
    "budget_one.head()\n",
    "budget_one.tail()"
   ]
  },
  {
   "cell_type": "code",
   "execution_count": null,
   "metadata": {},
   "outputs": [],
   "source": [
    "print(budget_one.columns)"
   ]
  },
  {
   "cell_type": "code",
   "execution_count": null,
   "metadata": {},
   "outputs": [],
   "source": [
    "budget_one"
   ]
  },
  {
   "cell_type": "code",
   "execution_count": null,
   "metadata": {},
   "outputs": [],
   "source": [
    "print(budget_two.columns)"
   ]
  },
  {
   "cell_type": "code",
   "execution_count": null,
   "metadata": {},
   "outputs": [],
   "source": [
    "budget_two.drop(columns=[\"studio\", \"year\"], inplace=True)\n",
    "budget_two"
   ]
  },
  {
   "cell_type": "code",
   "execution_count": null,
   "metadata": {},
   "outputs": [],
   "source": [
    "budget_two.columns = ['movie', 'domestic_gross', 'worldwide_gross']\n",
    "\n",
    "# Print the updated DataFrame\n",
    "print(budget_two)"
   ]
  },
  {
   "cell_type": "code",
   "execution_count": null,
   "metadata": {},
   "outputs": [],
   "source": [
    "merged_revenue=pd.concat([budget_one, budget_two])\n",
    "merged_revenue"
   ]
  },
  {
   "cell_type": "code",
   "execution_count": null,
   "metadata": {},
   "outputs": [],
   "source": [
    "merged_revenue.drop_duplicates()"
   ]
  },
  {
   "cell_type": "code",
   "execution_count": null,
   "metadata": {},
   "outputs": [],
   "source": [
    "merged_revenue['domestic_gross'] = pd.to_numeric(merged_revenue['domestic_gross'], errors='coerce')\n"
   ]
  },
  {
   "cell_type": "code",
   "execution_count": null,
   "metadata": {},
   "outputs": [],
   "source": [
    "merged_revenue['domestic_gross'].mean()"
   ]
  },
  {
   "cell_type": "code",
   "execution_count": null,
   "metadata": {},
   "outputs": [],
   "source": [
    "median_value=merged_revenue['domestic_gross'].median()\n",
    "median_value"
   ]
  },
  {
   "cell_type": "code",
   "execution_count": null,
   "metadata": {},
   "outputs": [],
   "source": [
    "merged_revenue['domestic_gross'].max()"
   ]
  },
  {
   "cell_type": "code",
   "execution_count": null,
   "metadata": {},
   "outputs": [],
   "source": [
    "merged_revenue['domestic_gross'].describe()"
   ]
  },
  {
   "cell_type": "code",
   "execution_count": null,
   "metadata": {},
   "outputs": [],
   "source": [
    "merged_revenue['domestic_gross'] = merged_revenue['domestic_gross'].fillna(median_value)"
   ]
  },
  {
   "cell_type": "code",
   "execution_count": null,
   "metadata": {},
   "outputs": [],
   "source": [
    "merged_revenue['worldwide_gross'].describe()"
   ]
  },
  {
   "cell_type": "code",
   "execution_count": null,
   "metadata": {},
   "outputs": [],
   "source": [
    "# im trying to remove the /$ signs \n",
    "merged_revenue['worldwide_gross'] = pd.to_numeric(merged_revenue['worldwide_gross'].replace('[\\$,]', '', regex=True), errors='coerce')\n"
   ]
  },
  {
   "cell_type": "code",
   "execution_count": null,
   "metadata": {},
   "outputs": [],
   "source": [
    "median=merged_revenue['worldwide_gross'].median()"
   ]
  },
  {
   "cell_type": "code",
   "execution_count": null,
   "metadata": {},
   "outputs": [],
   "source": [
    "merged_revenue['worldwide_gross'] = merged_revenue['worldwide_gross'].fillna(median)"
   ]
  },
  {
   "cell_type": "code",
   "execution_count": null,
   "metadata": {},
   "outputs": [],
   "source": [
    "merged_revenue['worldwide_gross'].describe()"
   ]
  },
  {
   "cell_type": "code",
   "execution_count": null,
   "metadata": {},
   "outputs": [],
   "source": [
    "m1 = pd.read_csv(\"C:\\\\Users\\\\HP\\\\Desktop\\\\moringa\\\\PHASE1_PROJECT\\\\tn.movie_budgets.csv\\\\tn.movie_budgets.csv\")\n",
    "m1"
   ]
  },
  {
   "cell_type": "code",
   "execution_count": null,
   "metadata": {},
   "outputs": [],
   "source": [
    "\n",
    "production_budget = m1['production_budget']\n",
    "\n",
    "production_budget = pd.to_numeric(production_budget.replace('[\\$,]', '', regex=True), errors='coerce')\n",
    "production_budget"
   ]
  },
  {
   "cell_type": "code",
   "execution_count": null,
   "metadata": {},
   "outputs": [],
   "source": [
    "Release_year = m1['release_date']\n",
    "Release_year"
   ]
  },
  {
   "cell_type": "code",
   "execution_count": null,
   "metadata": {},
   "outputs": [],
   "source": [
    "merged_revenue['Release_year'] = Release_year"
   ]
  },
  {
   "cell_type": "code",
   "execution_count": null,
   "metadata": {},
   "outputs": [],
   "source": [
    "production_budget.describe()"
   ]
  },
  {
   "cell_type": "code",
   "execution_count": null,
   "metadata": {},
   "outputs": [],
   "source": [
    "merged_revenue\n",
    "pd.set_option('display.float_format', '{:.2f}'.format)\n",
    "merged_revenue"
   ]
  },
  {
   "cell_type": "code",
   "execution_count": null,
   "metadata": {},
   "outputs": [],
   "source": [
    "merged_revenue['production_budget'] = production_budget\n",
    "merged_revenue"
   ]
  },
  {
   "cell_type": "code",
   "execution_count": null,
   "metadata": {},
   "outputs": [],
   "source": [
    "merged_revenue['production_budget'].describe()"
   ]
  },
  {
   "cell_type": "code",
   "execution_count": null,
   "metadata": {},
   "outputs": [],
   "source": [
    "merged_revenue['production_budget'] = pd.to_numeric(merged_revenue['production_budget'].replace('[\\$,]', '', regex=True), errors='coerce')"
   ]
  },
  {
   "cell_type": "code",
   "execution_count": null,
   "metadata": {},
   "outputs": [],
   "source": [
    "median_production=merged_revenue['production_budget'].median()"
   ]
  },
  {
   "cell_type": "code",
   "execution_count": null,
   "metadata": {},
   "outputs": [],
   "source": [
    "merged_revenue['production_budget'] = merged_revenue['production_budget'].fillna(median_production)"
   ]
  },
  {
   "cell_type": "code",
   "execution_count": null,
   "metadata": {},
   "outputs": [],
   "source": [
    "merged_revenue['Total_revenue'] = merged_revenue['domestic_gross'] + merged_revenue['worldwide_gross']\n",
    "merged_revenue['Total_revenue'] "
   ]
  },
  {
   "cell_type": "code",
   "execution_count": null,
   "metadata": {},
   "outputs": [],
   "source": [
    "merged_revenue['ROI'] = ((merged_revenue['Total_revenue'] - merged_revenue['production_budget']) / merged_revenue['production_budget']) * 100\n",
    "merged_revenue['ROI']"
   ]
  },
  {
   "cell_type": "code",
   "execution_count": null,
   "metadata": {},
   "outputs": [],
   "source": [
    "merged_revenue['domestic_gross'] = merged_revenue['domestic_gross'].round().astype(int)\n",
    "\n",
    "merged_revenue['worldwide_gross'] = merged_revenue['worldwide_gross'].round().astype(int)"
   ]
  },
  {
   "cell_type": "code",
   "execution_count": null,
   "metadata": {},
   "outputs": [],
   "source": [
    "merged_revenue"
   ]
  },
  {
   "cell_type": "code",
   "execution_count": null,
   "metadata": {},
   "outputs": [],
   "source": [
    "import matplotlib.pyplot as plt\n",
    "\n",
    "# Check if 'figure' is overwritten\n",
    "print(plt.figure)"
   ]
  },
  {
   "cell_type": "code",
   "execution_count": null,
   "metadata": {},
   "outputs": [],
   "source": [
    "import matplotlib.pyplot as plt\n",
    "from matplotlib.pyplot import figure\n",
    "\n",
    "merged_revenue['release_date']= pd.to_datetime(merged_revenue['release_date'], errors='coerce')\n",
    "\n",
    "plt.figure(figsize=(10, 6))\n",
    "plt.plot(merged_revenue['release_date'].head(50), merged_revenue['ROI'].head(50), marker='o', linestyle='-', color='b')\n",
    "plt.title('Return on Investment (ROI) Over Time For The First 50 Rows')\n",
    "plt.xlabel('Release Date')\n",
    "plt.ylabel('ROI (%)')\n",
    "plt.grid(True)\n",
    "plt.xticks(rotation=45)\n",
    "plt.tight_layout()\n",
    "plt.show()"
   ]
  },
  {
   "cell_type": "code",
   "execution_count": null,
   "metadata": {},
   "outputs": [],
   "source": [
    "# trying to figure out the corelationship between movie budget and total revenue returns\n",
    "plt.figure(figsize=(10, 6))\n",
    "sns.scatterplot(x='production_budget', y='Total_revenue', data=merged_revenue, color='blue', alpha=0.7)\n",
    "plt.title('Movie Budget vs Gross Returns')\n",
    "plt.xlabel('Production Budget (in millions)')\n",
    "plt.ylabel('Total Revenue (in millions)')\n",
    "plt.grid(True)\n",
    "plt.show()"
   ]
  },
  {
   "cell_type": "code",
   "execution_count": null,
   "metadata": {},
   "outputs": [],
   "source": [
    "#  budget categories by definations\n",
    "budget_bins = [20000000, 50000000, 100000000, float('inf')]  \n",
    "budget_labels = ['Low Budget', 'Medium Budget', 'High Budget']\n",
    "\n",
    "# Created a new column 'Budget_Category' based on budget ranges\n",
    "merged_revenue['Budget_Category'] = pd.cut(merged_revenue['production_budget'], bins=budget_bins, labels=budget_labels, right=False)\n",
    "\n",
    "plt.figure(figsize=(10, 6))\n",
    "sns.countplot(x='Budget_Category', data=merged_revenue, palette='viridis')\n",
    "plt.title('Distribution of Movies in Budget Categories')\n",
    "plt.xlabel('Budget Category')\n",
    "plt.ylabel('Number of Movies')\n",
    "plt.show()\n",
    "\n",
    "# analysis on revenue and reviews by budget category\n",
    "plt.figure(figsize=(14, 6))\n",
    "\n",
    "plt.subplot(1, 2, 1)\n",
    "sns.boxplot(x='Budget_Category', y='Total_revenue', data=merged_revenue, palette='muted')\n",
    "plt.title('Box Office Revenue by Budget Category')\n",
    "plt.xlabel('Budget Category')\n",
    "plt.ylabel('Total Revenue (in millions)')\n",
    "\n",
    "plt.tight_layout()\n",
    "plt.show()"
   ]
  },
  {
   "cell_type": "code",
   "execution_count": null,
   "metadata": {},
   "outputs": [],
   "source": [
    "top_gross_return = merged_revenue.sort_values(by='Total_revenue', ascending=False).head(10)\n",
    "top_gross_return \n"
   ]
  },
  {
   "cell_type": "code",
   "execution_count": null,
   "metadata": {},
   "outputs": [],
   "source": [
    "low_gross_return = merged_revenue.sort_values(by='Total_revenue', ascending=False).tail(10)\n",
    "low_gross_return"
   ]
  },
  {
   "cell_type": "code",
   "execution_count": null,
   "metadata": {},
   "outputs": [],
   "source": [
    "# correlation between production cost and revenue return\n",
    "correlation_budget_revenue = merged_revenue['production_budget'].corr(merged_revenue['Total_revenue'])\n",
    "correlation_budget_revenue"
   ]
  },
  {
   "cell_type": "code",
   "execution_count": null,
   "metadata": {},
   "outputs": [],
   "source": [
    "plt.figure(figsize=(10, 6))\n",
    "plt.scatter(merged_revenue['production_budget'], merged_revenue['Total_revenue'], alpha=0.5)\n",
    "plt.title('Scatter Plot: Production Budget vs Total Revenue')\n",
    "plt.xlabel('Production Budget (in millions)')\n",
    "plt.ylabel('Total Revenue (in millions)')\n",
    "plt.grid(True)\n",
    "plt.show()\n",
    "\n",
    "# positive correlation"
   ]
  },
  {
   "cell_type": "code",
   "execution_count": null,
   "metadata": {},
   "outputs": [],
   "source": [
    "Basic_info = '''\n",
    "                 SELECT * FROM movie_basics;\n",
    "'''\n",
    "\n",
    "cursor.execute(Basic_info)\n",
    "\n",
    "rows = cursor.fetchall()\n",
    "\n",
    "for row in rows:\n",
    "    print(row)"
   ]
  },
  {
   "cell_type": "code",
   "execution_count": null,
   "metadata": {},
   "outputs": [],
   "source": [
    "Movies_release = '''\n",
    "                 SELECT start_year, COUNT(*) AS movie_count\n",
    "                 FROM movie_basics\n",
    "                 GROUP BY start_year\n",
    "                 ORDER BY start_year;\n",
    "'''\n",
    "cursor.execute(Movies_release)\n",
    "\n",
    "rows = cursor.fetchall()\n",
    "\n",
    "for row in rows:\n",
    "    print(row)"
   ]
  },
  {
   "cell_type": "code",
   "execution_count": null,
   "metadata": {},
   "outputs": [],
   "source": [
    "# executing sql queries on im.db\n",
    "audience_Ratings_above_avg=''' \n",
    "                 SELECT *\n",
    "                 FROM movie_ratings\n",
    "                 WHERE averagerating >= 7.0;              \n",
    "'''\n",
    "cursor.execute(audience_Ratings_above_avg)\n",
    "\n",
    "rows = cursor.fetchall()\n",
    "\n",
    "for row in rows:\n",
    "    print(row)\n"
   ]
  },
  {
   "cell_type": "code",
   "execution_count": null,
   "metadata": {},
   "outputs": [],
   "source": [
    "geners_above_avg = '''\n",
    "                 SELECT genres, AVG(averagerating) AS avg_rating\n",
    "                 FROM movie_basics\n",
    "                 JOIN movie_ratings ON movie_basics.movie_id = movie_ratings.movie_id\n",
    "                 GROUP BY genres\n",
    "                 HAVING avg_rating > 7.0;\n",
    "'''\n",
    "\n",
    "cursor.execute(geners_above_avg)\n",
    "\n",
    "rows = cursor.fetchall()\n",
    "\n",
    "for row in rows:\n",
    "    print(row)\n",
    "\n"
   ]
  },
  {
   "cell_type": "code",
   "execution_count": null,
   "metadata": {},
   "outputs": [],
   "source": [
    "Proffesions = '''\n",
    "                 SELECT primary_name, primary_profession\n",
    "                 FROM persons;\n",
    "'''\n",
    "\n",
    "cursor.execute(Proffesions)\n",
    "\n",
    "rows = cursor.fetchall()\n",
    "\n",
    "for row in rows:\n",
    "    print(row)"
   ]
  },
  {
   "cell_type": "code",
   "execution_count": null,
   "metadata": {},
   "outputs": [],
   "source": [
    "recognised_by = '''\n",
    "                 SELECT persons.primary_name, known_for.movie_id\n",
    "                 FROM persons\n",
    "                 LEFT JOIN known_for ON persons.person_id = known_for.person_id;\n",
    "'''\n",
    "\n",
    "cursor.execute(recognised_by)\n",
    "\n",
    "rows = cursor.fetchall()\n",
    "\n",
    "for row in rows:\n",
    "        print(row)\n"
   ]
  },
  {
   "cell_type": "code",
   "execution_count": null,
   "metadata": {},
   "outputs": [],
   "source": [
    "English_movies= '''\n",
    "                  SELECT title, region, language\n",
    "                 FROM movie_akas\n",
    "                 WHERE language = \"en\";\n",
    "'''\n",
    "\n",
    "cursor.execute(English_movies)\n",
    "\n",
    "rows = cursor.fetchall()\n",
    "\n",
    "for row in rows:\n",
    "     print(row)\n",
    " "
   ]
  },
  {
   "cell_type": "code",
   "execution_count": null,
   "metadata": {},
   "outputs": [],
   "source": [
    "critics_file = r'C:\\\\Users\\\\HP\\\\Desktop\\\\moringa\\\\PHASE1_PROJECT\\\\rt.reviews.tsv\\\\rt.reviews.tsv'\n",
    "\n",
    "critics_reviews = pd.read_csv(critics_file, sep='\\t', encoding='latin-1')\n",
    "\n",
    "critics_reviews\n"
   ]
  },
  {
   "cell_type": "code",
   "execution_count": null,
   "metadata": {},
   "outputs": [],
   "source": [
    "movies_info_file = r\"C:\\\\Users\\\\HP\\\\Desktop\\\\moringa\\\\PHASE1_PROJECT\\\\rt.movie_info.tsv\\\\rt.movie_info.tsv\"\n",
    "\n",
    "movies_info = pd.read_csv(movies_info_file, sep='\\t', encoding='latin-1')\n",
    "\n",
    "movies_info"
   ]
  },
  {
   "cell_type": "code",
   "execution_count": null,
   "metadata": {},
   "outputs": [],
   "source": [
    "movies_info.drop(columns=['synopsis', 'theater_date',\t'dvd_date', 'currency', 'box_office'])"
   ]
  },
  {
   "cell_type": "code",
   "execution_count": null,
   "metadata": {},
   "outputs": [],
   "source": [
    "genre_counts = movies_info['genre'].value_counts()\n",
    "genre_counts.head(10)\n",
    "\n",
    "genre_counts.head(10).plot(kind='bar', edgecolor='black', rot=45, figsize=(15, 10))\n",
    "plt.title('Distribution of Movies Across Genres')\n",
    "plt.xlabel('genre_counts')\n",
    "plt.ylabel('Number of Movies')\n",
    "plt.show()"
   ]
  },
  {
   "cell_type": "code",
   "execution_count": null,
   "metadata": {},
   "outputs": [],
   "source": [
    "directors_counts = movies_info['director'].value_counts()\n",
    "directors_counts.head(10)\n",
    "\n",
    "plt.bar(directors_counts.index[:10], directors_counts.head(10).values, edgecolor='black', width=0.8)\n",
    "plt.title('Number of Movies Directed by Each Director (Top 10)')\n",
    "plt.xlabel('Director')\n",
    "plt.ylabel('Number of Movies')\n",
    "plt.xticks(rotation=45, ha='right', fontsize=8)\n",
    "plt.tight_layout()\n",
    "plt.show()"
   ]
  },
  {
   "cell_type": "code",
   "execution_count": null,
   "metadata": {},
   "outputs": [],
   "source": [
    "writers_count=movies_info['writer'].value_counts()\n",
    "writers_count"
   ]
  },
  {
   "cell_type": "code",
   "execution_count": null,
   "metadata": {},
   "outputs": [],
   "source": [
    "studios_count=movies_info['studio'].value_counts()\n",
    "studios_count.head(20)\n",
    "\n",
    "studios_count.head(20).plot(kind='bar', edgecolor='black', figsize=(12, 6))\n",
    "plt.title('Distribution of Movies Across Studios')\n",
    "plt.xlabel('Studio')\n",
    "plt.ylabel('Number of Movies')\n",
    "plt.xticks(rotation=45, ha='right')  \n",
    "plt.show()"
   ]
  },
  {
   "cell_type": "code",
   "execution_count": null,
   "metadata": {},
   "outputs": [],
   "source": [
    "movies_info['runtime'].describe()"
   ]
  },
  {
   "cell_type": "code",
   "execution_count": null,
   "metadata": {},
   "outputs": [],
   "source": [
    "critics_reviews['fresh'].value_counts()\n"
   ]
  },
  {
   "cell_type": "code",
   "execution_count": null,
   "metadata": {},
   "outputs": [],
   "source": [
    "critics_reviews['rating'].value_counts()"
   ]
  },
  {
   "cell_type": "code",
   "execution_count": null,
   "metadata": {},
   "outputs": [],
   "source": [
    "critics_reviews['critic'].value_counts()"
   ]
  },
  {
   "cell_type": "code",
   "execution_count": null,
   "metadata": {},
   "outputs": [],
   "source": [
    "critics_reviews['publisher'].value_counts()"
   ]
  },
  {
   "cell_type": "code",
   "execution_count": null,
   "metadata": {},
   "outputs": [],
   "source": [
    "publishers_with_fresh_reviews = critics_reviews[critics_reviews['fresh'] == 'fresh']\n",
    "publishers_with_fresh_reviews.head()"
   ]
  },
  {
   "cell_type": "code",
   "execution_count": null,
   "metadata": {},
   "outputs": [],
   "source": [
    "publishers_with_rotten_reviews = critics_reviews[critics_reviews['fresh'] == 'rotten']\n",
    "publishers_with_rotten_reviews"
   ]
  }
 ],
 "metadata": {
  "kernelspec": {
   "display_name": "Python (learn-env)",
   "language": "python",
   "name": "learn-env"
  },
  "language_info": {
   "codemirror_mode": {
    "name": "ipython",
    "version": 3
   },
   "file_extension": ".py",
   "mimetype": "text/x-python",
   "name": "python",
   "nbconvert_exporter": "python",
   "pygments_lexer": "ipython3",
   "version": "3.10.13"
  }
 },
 "nbformat": 4,
 "nbformat_minor": 2
}
